{
 "cells": [
  {
   "cell_type": "code",
   "execution_count": 1,
   "metadata": {},
   "outputs": [],
   "source": [
    "from tensorflow.keras.models import Sequential #used to initialize in sequential way\n",
    "from tensorflow.keras.layers import Dense #used to add layers\n",
    "from tensorflow.keras.layers import Convolution2D\n",
    "from tensorflow.keras.layers import MaxPooling2D\n",
    "from tensorflow.keras.layers import Flatten"
   ]
  },
  {
   "cell_type": "code",
   "execution_count": 2,
   "metadata": {},
   "outputs": [
    {
     "name": "stderr",
     "output_type": "stream",
     "text": [
      "Using TensorFlow backend.\n"
     ]
    }
   ],
   "source": [
    "from keras.preprocessing.image import ImageDataGenerator\n",
    "train_datagen=ImageDataGenerator(rescale=1./255,shear_range=0.2,zoom_range=0.2,horizontal_flip=True)\n",
    "test_datagen=ImageDataGenerator(rescale=1./255)"
   ]
  },
  {
   "cell_type": "code",
   "execution_count": 3,
   "metadata": {},
   "outputs": [
    {
     "name": "stdout",
     "output_type": "stream",
     "text": [
      "Found 1677 images belonging to 5 classes.\n",
      "Found 750 images belonging to 5 classes.\n"
     ]
    }
   ],
   "source": [
    "x_train=train_datagen.flow_from_directory(r\"E:\\geethanjaliexternship\\flowers\\flowers\\trainset\",target_size=(64,64),batch_size=32,class_mode=\"categorical\")  \n",
    "x_test=test_datagen.flow_from_directory(r\"E:\\geethanjaliexternship\\flowers\\flowers\\testset\",target_size=(64,64),batch_size=32,class_mode=\"categorical\")"
   ]
  },
  {
   "cell_type": "code",
   "execution_count": 4,
   "metadata": {},
   "outputs": [],
   "source": [
    "model=Sequential()"
   ]
  },
  {
   "cell_type": "code",
   "execution_count": 5,
   "metadata": {},
   "outputs": [
    {
     "name": "stdout",
     "output_type": "stream",
     "text": [
      "WARNING:tensorflow:From C:\\Users\\shiva\\Anaconda3\\lib\\site-packages\\tensorflow\\python\\ops\\init_ops.py:1251: calling VarianceScaling.__init__ (from tensorflow.python.ops.init_ops) with dtype is deprecated and will be removed in a future version.\n",
      "Instructions for updating:\n",
      "Call initializer instance with the dtype argument instead of passing it to the constructor\n"
     ]
    }
   ],
   "source": [
    "model.add(Convolution2D(32,(3,3),input_shape=(64,64,3),activation=\"relu\"))"
   ]
  },
  {
   "cell_type": "code",
   "execution_count": 6,
   "metadata": {},
   "outputs": [],
   "source": [
    "model.add(MaxPooling2D(2,2))"
   ]
  },
  {
   "cell_type": "code",
   "execution_count": 7,
   "metadata": {},
   "outputs": [],
   "source": [
    "model.add(Flatten())"
   ]
  },
  {
   "cell_type": "code",
   "execution_count": 8,
   "metadata": {},
   "outputs": [
    {
     "name": "stdout",
     "output_type": "stream",
     "text": [
      "WARNING:tensorflow:From C:\\Users\\shiva\\Anaconda3\\lib\\site-packages\\tensorflow\\python\\keras\\initializers.py:119: calling RandomUniform.__init__ (from tensorflow.python.ops.init_ops) with dtype is deprecated and will be removed in a future version.\n",
      "Instructions for updating:\n",
      "Call initializer instance with the dtype argument instead of passing it to the constructor\n"
     ]
    }
   ],
   "source": [
    "model.add(Dense(units=512,activation=\"relu\",kernel_initializer=\"random_uniform\"))"
   ]
  },
  {
   "cell_type": "code",
   "execution_count": 9,
   "metadata": {},
   "outputs": [],
   "source": [
    "model.add(Dense(units=5,activation=\"softmax\",kernel_initializer=\"random_uniform\"))"
   ]
  },
  {
   "cell_type": "code",
   "execution_count": 10,
   "metadata": {},
   "outputs": [],
   "source": [
    "model.compile(\"sgd\",loss=\"categorical_crossentropy\",metrics=[\"accuracy\"])"
   ]
  },
  {
   "cell_type": "code",
   "execution_count": 11,
   "metadata": {},
   "outputs": [
    {
     "name": "stdout",
     "output_type": "stream",
     "text": [
      "Epoch 1/100\n",
      "47/47 [==============================] - 11s 231ms/step - loss: 1.5513 - acc: 0.3051 - val_loss: 1.5197 - val_acc: 0.3391\n",
      "Epoch 2/100\n",
      "47/47 [==============================] - 10s 211ms/step - loss: 1.4433 - acc: 0.3906 - val_loss: 1.4848 - val_acc: 0.3406\n",
      "Epoch 3/100\n",
      "47/47 [==============================] - 10s 204ms/step - loss: 1.3281 - acc: 0.4337 - val_loss: 1.4620 - val_acc: 0.3875\n",
      "Epoch 4/100\n",
      "47/47 [==============================] - 9s 196ms/step - loss: 1.3025 - acc: 0.4495 - val_loss: 1.3265 - val_acc: 0.4406\n",
      "Epoch 5/100\n",
      "47/47 [==============================] - 9s 195ms/step - loss: 1.2654 - acc: 0.4519 - val_loss: 1.3458 - val_acc: 0.4516\n",
      "Epoch 6/100\n",
      "47/47 [==============================] - 9s 198ms/step - loss: 1.2173 - acc: 0.4721 - val_loss: 1.2886 - val_acc: 0.4406\n",
      "Epoch 7/100\n",
      "47/47 [==============================] - 9s 190ms/step - loss: 1.2010 - acc: 0.5027 - val_loss: 1.5185 - val_acc: 0.3141\n",
      "Epoch 8/100\n",
      "47/47 [==============================] - 10s 208ms/step - loss: 1.1743 - acc: 0.5000 - val_loss: 1.2568 - val_acc: 0.4609\n",
      "Epoch 9/100\n",
      "47/47 [==============================] - 9s 194ms/step - loss: 1.1459 - acc: 0.5185 - val_loss: 1.2302 - val_acc: 0.4734\n",
      "Epoch 10/100\n",
      "47/47 [==============================] - 11s 229ms/step - loss: 1.1126 - acc: 0.5293 - val_loss: 1.4537 - val_acc: 0.4172\n",
      "Epoch 11/100\n",
      "47/47 [==============================] - 10s 204ms/step - loss: 1.1171 - acc: 0.5407 - val_loss: 1.2534 - val_acc: 0.4797\n",
      "Epoch 12/100\n",
      "47/47 [==============================] - 10s 205ms/step - loss: 1.1228 - acc: 0.5472 - val_loss: 1.2417 - val_acc: 0.4984\n",
      "Epoch 13/100\n",
      "47/47 [==============================] - 9s 196ms/step - loss: 1.0619 - acc: 0.5791 - val_loss: 1.2903 - val_acc: 0.4344\n",
      "Epoch 14/100\n",
      "47/47 [==============================] - 9s 198ms/step - loss: 1.0767 - acc: 0.5737 - val_loss: 1.2690 - val_acc: 0.4922\n",
      "Epoch 15/100\n",
      "47/47 [==============================] - 9s 200ms/step - loss: 1.0368 - acc: 0.5832 - val_loss: 1.2924 - val_acc: 0.4375\n",
      "Epoch 16/100\n",
      "47/47 [==============================] - 9s 190ms/step - loss: 1.0395 - acc: 0.5724 - val_loss: 1.2335 - val_acc: 0.4922\n",
      "Epoch 17/100\n",
      "47/47 [==============================] - 10s 204ms/step - loss: 1.0522 - acc: 0.5757 - val_loss: 1.3549 - val_acc: 0.4359\n",
      "Epoch 18/100\n",
      "47/47 [==============================] - 9s 196ms/step - loss: 1.0219 - acc: 0.5957 - val_loss: 1.2451 - val_acc: 0.4656\n",
      "Epoch 19/100\n",
      "47/47 [==============================] - 11s 227ms/step - loss: 1.0160 - acc: 0.5899 - val_loss: 1.2481 - val_acc: 0.4938\n",
      "Epoch 20/100\n",
      "47/47 [==============================] - 10s 211ms/step - loss: 1.0078 - acc: 0.5993 - val_loss: 1.2179 - val_acc: 0.5063\n",
      "Epoch 21/100\n",
      "47/47 [==============================] - 9s 193ms/step - loss: 0.9957 - acc: 0.6097 - val_loss: 1.1662 - val_acc: 0.5344\n",
      "Epoch 22/100\n",
      "47/47 [==============================] - 9s 193ms/step - loss: 1.0006 - acc: 0.6112 - val_loss: 1.1922 - val_acc: 0.5000\n",
      "Epoch 23/100\n",
      "47/47 [==============================] - 9s 199ms/step - loss: 0.9561 - acc: 0.6150 - val_loss: 1.1991 - val_acc: 0.5219\n",
      "Epoch 24/100\n",
      "47/47 [==============================] - 9s 193ms/step - loss: 0.9773 - acc: 0.6141 - val_loss: 1.2010 - val_acc: 0.4922\n",
      "Epoch 25/100\n",
      "47/47 [==============================] - 9s 199ms/step - loss: 0.9905 - acc: 0.6088 - val_loss: 1.1989 - val_acc: 0.5203\n",
      "Epoch 26/100\n",
      "47/47 [==============================] - 9s 193ms/step - loss: 0.9374 - acc: 0.6391 - val_loss: 1.1984 - val_acc: 0.5141\n",
      "Epoch 27/100\n",
      "47/47 [==============================] - 10s 212ms/step - loss: 0.9354 - acc: 0.6283 - val_loss: 1.3099 - val_acc: 0.4594\n",
      "Epoch 28/100\n",
      "47/47 [==============================] - 10s 222ms/step - loss: 0.9425 - acc: 0.6363 - val_loss: 1.1930 - val_acc: 0.5281\n",
      "Epoch 29/100\n",
      "47/47 [==============================] - 9s 195ms/step - loss: 0.9454 - acc: 0.6439 - val_loss: 1.1834 - val_acc: 0.5437\n",
      "Epoch 30/100\n",
      "47/47 [==============================] - 9s 201ms/step - loss: 0.9127 - acc: 0.6559 - val_loss: 1.2304 - val_acc: 0.5047\n",
      "Epoch 31/100\n",
      "47/47 [==============================] - 9s 192ms/step - loss: 0.9157 - acc: 0.6436 - val_loss: 1.1786 - val_acc: 0.5359\n",
      "Epoch 32/100\n",
      "47/47 [==============================] - 9s 188ms/step - loss: 0.9043 - acc: 0.6610 - val_loss: 1.1587 - val_acc: 0.5469\n",
      "Epoch 33/100\n",
      "47/47 [==============================] - 9s 197ms/step - loss: 0.8945 - acc: 0.6539 - val_loss: 1.2111 - val_acc: 0.5359\n",
      "Epoch 34/100\n",
      "47/47 [==============================] - 9s 187ms/step - loss: 0.8890 - acc: 0.6556 - val_loss: 1.2675 - val_acc: 0.5031\n",
      "Epoch 35/100\n",
      "47/47 [==============================] - 9s 201ms/step - loss: 0.9078 - acc: 0.6620 - val_loss: 1.2703 - val_acc: 0.5109\n",
      "Epoch 36/100\n",
      "47/47 [==============================] - 10s 204ms/step - loss: 0.8848 - acc: 0.6532 - val_loss: 1.2353 - val_acc: 0.5000\n",
      "Epoch 37/100\n",
      "47/47 [==============================] - 10s 208ms/step - loss: 0.8656 - acc: 0.6722 - val_loss: 1.3177 - val_acc: 0.4641\n",
      "Epoch 38/100\n",
      "47/47 [==============================] - 10s 206ms/step - loss: 0.8627 - acc: 0.6653 - val_loss: 1.1971 - val_acc: 0.5344\n",
      "Epoch 39/100\n",
      "47/47 [==============================] - 9s 194ms/step - loss: 0.8535 - acc: 0.6795 - val_loss: 1.2023 - val_acc: 0.5234\n",
      "Epoch 40/100\n",
      "47/47 [==============================] - 9s 197ms/step - loss: 0.8275 - acc: 0.6700 - val_loss: 1.2651 - val_acc: 0.5328\n",
      "Epoch 41/100\n",
      "47/47 [==============================] - 9s 190ms/step - loss: 0.8685 - acc: 0.6596 - val_loss: 1.2404 - val_acc: 0.5281\n",
      "Epoch 42/100\n",
      "47/47 [==============================] - 9s 189ms/step - loss: 0.8431 - acc: 0.6788 - val_loss: 1.1842 - val_acc: 0.5437\n",
      "Epoch 43/100\n",
      "47/47 [==============================] - 10s 203ms/step - loss: 0.8313 - acc: 0.6868 - val_loss: 1.2001 - val_acc: 0.5484\n",
      "Epoch 44/100\n",
      "47/47 [==============================] - 9s 184ms/step - loss: 0.7982 - acc: 0.6889 - val_loss: 1.1715 - val_acc: 0.5609\n",
      "Epoch 45/100\n",
      "47/47 [==============================] - 10s 206ms/step - loss: 0.8297 - acc: 0.6747 - val_loss: 1.1537 - val_acc: 0.5484\n",
      "Epoch 46/100\n",
      "47/47 [==============================] - 10s 207ms/step - loss: 0.8267 - acc: 0.6936 - val_loss: 1.2411 - val_acc: 0.5063\n",
      "Epoch 47/100\n",
      "47/47 [==============================] - 10s 204ms/step - loss: 0.7989 - acc: 0.6990 - val_loss: 1.3057 - val_acc: 0.5328\n",
      "Epoch 48/100\n",
      "47/47 [==============================] - 9s 190ms/step - loss: 0.7927 - acc: 0.6976 - val_loss: 1.2929 - val_acc: 0.5297\n",
      "Epoch 49/100\n",
      "47/47 [==============================] - 9s 201ms/step - loss: 0.7682 - acc: 0.7088 - val_loss: 1.2203 - val_acc: 0.5297\n",
      "Epoch 50/100\n",
      "47/47 [==============================] - 10s 203ms/step - loss: 0.7859 - acc: 0.6909 - val_loss: 1.1735 - val_acc: 0.5500\n",
      "Epoch 51/100\n",
      "47/47 [==============================] - 9s 194ms/step - loss: 0.7727 - acc: 0.7051 - val_loss: 1.2990 - val_acc: 0.5156\n",
      "Epoch 52/100\n",
      "47/47 [==============================] - 10s 206ms/step - loss: 0.7495 - acc: 0.7199 - val_loss: 1.2672 - val_acc: 0.5250\n",
      "Epoch 53/100\n",
      "47/47 [==============================] - 9s 187ms/step - loss: 0.7540 - acc: 0.7138 - val_loss: 1.1877 - val_acc: 0.5594\n",
      "Epoch 54/100\n",
      "47/47 [==============================] - 10s 211ms/step - loss: 0.7556 - acc: 0.7148 - val_loss: 1.1864 - val_acc: 0.5484\n",
      "Epoch 55/100\n",
      "47/47 [==============================] - 9s 202ms/step - loss: 0.7222 - acc: 0.7176 - val_loss: 1.1862 - val_acc: 0.5578\n",
      "Epoch 56/100\n",
      "47/47 [==============================] - 10s 213ms/step - loss: 0.7202 - acc: 0.7253 - val_loss: 1.2421 - val_acc: 0.5469\n",
      "Epoch 57/100\n",
      "47/47 [==============================] - 10s 212ms/step - loss: 0.7305 - acc: 0.7427 - val_loss: 1.3263 - val_acc: 0.5328\n",
      "Epoch 58/100\n",
      "47/47 [==============================] - 9s 194ms/step - loss: 0.7245 - acc: 0.7292 - val_loss: 1.3061 - val_acc: 0.5266\n",
      "Epoch 59/100\n",
      "47/47 [==============================] - 10s 210ms/step - loss: 0.7375 - acc: 0.7188 - val_loss: 1.2783 - val_acc: 0.5266\n",
      "Epoch 60/100\n",
      "47/47 [==============================] - 10s 202ms/step - loss: 0.6716 - acc: 0.7549 - val_loss: 1.3718 - val_acc: 0.5203\n",
      "Epoch 61/100\n",
      "47/47 [==============================] - 10s 208ms/step - loss: 0.7259 - acc: 0.7244 - val_loss: 1.2270 - val_acc: 0.5641\n",
      "Epoch 62/100\n"
     ]
    },
    {
     "name": "stdout",
     "output_type": "stream",
     "text": [
      "47/47 [==============================] - 9s 193ms/step - loss: 0.7083 - acc: 0.7427 - val_loss: 1.2813 - val_acc: 0.5203\n",
      "Epoch 63/100\n",
      "47/47 [==============================] - 11s 229ms/step - loss: 0.6839 - acc: 0.7522 - val_loss: 1.2387 - val_acc: 0.5609\n",
      "Epoch 64/100\n",
      "47/47 [==============================] - 10s 205ms/step - loss: 0.6677 - acc: 0.7508 - val_loss: 1.1916 - val_acc: 0.5672\n",
      "Epoch 65/100\n",
      "47/47 [==============================] - 9s 198ms/step - loss: 0.6896 - acc: 0.7488 - val_loss: 1.3574 - val_acc: 0.5453\n",
      "Epoch 66/100\n",
      "47/47 [==============================] - 9s 196ms/step - loss: 0.6512 - acc: 0.7673 - val_loss: 1.2346 - val_acc: 0.5578\n",
      "Epoch 67/100\n",
      "47/47 [==============================] - 10s 207ms/step - loss: 0.6754 - acc: 0.7542 - val_loss: 1.3310 - val_acc: 0.5250\n",
      "Epoch 68/100\n",
      "47/47 [==============================] - 10s 219ms/step - loss: 0.6535 - acc: 0.7626 - val_loss: 1.2735 - val_acc: 0.5359\n",
      "Epoch 69/100\n",
      "47/47 [==============================] - 11s 225ms/step - loss: 0.6278 - acc: 0.7717 - val_loss: 1.3473 - val_acc: 0.5266\n",
      "Epoch 70/100\n",
      "47/47 [==============================] - 10s 206ms/step - loss: 0.6534 - acc: 0.7500 - val_loss: 1.3993 - val_acc: 0.5141\n",
      "Epoch 71/100\n",
      "47/47 [==============================] - 10s 211ms/step - loss: 0.6203 - acc: 0.7744 - val_loss: 1.3532 - val_acc: 0.5266\n",
      "Epoch 72/100\n",
      "47/47 [==============================] - 11s 243ms/step - loss: 0.6452 - acc: 0.7630 - val_loss: 1.3008 - val_acc: 0.5484\n",
      "Epoch 73/100\n",
      "47/47 [==============================] - 10s 216ms/step - loss: 0.6174 - acc: 0.7697 - val_loss: 1.2247 - val_acc: 0.5594\n",
      "Epoch 74/100\n",
      "47/47 [==============================] - 9s 192ms/step - loss: 0.5715 - acc: 0.8059 - val_loss: 1.2721 - val_acc: 0.5531\n",
      "Epoch 75/100\n",
      "47/47 [==============================] - 9s 186ms/step - loss: 0.5947 - acc: 0.7838 - val_loss: 1.3348 - val_acc: 0.5422\n",
      "Epoch 76/100\n",
      "47/47 [==============================] - 10s 202ms/step - loss: 0.6013 - acc: 0.7786 - val_loss: 1.2305 - val_acc: 0.5609\n",
      "Epoch 77/100\n",
      "47/47 [==============================] - 9s 192ms/step - loss: 0.5790 - acc: 0.7886 - val_loss: 1.9500 - val_acc: 0.4531\n",
      "Epoch 78/100\n",
      "47/47 [==============================] - 10s 207ms/step - loss: 0.6179 - acc: 0.7744 - val_loss: 1.2440 - val_acc: 0.5500\n",
      "Epoch 79/100\n",
      "47/47 [==============================] - 10s 216ms/step - loss: 0.5672 - acc: 0.8027 - val_loss: 1.3462 - val_acc: 0.5500\n",
      "Epoch 80/100\n",
      "47/47 [==============================] - 9s 201ms/step - loss: 0.5453 - acc: 0.7973 - val_loss: 1.3034 - val_acc: 0.5500\n",
      "Epoch 81/100\n",
      "47/47 [==============================] - 11s 232ms/step - loss: 0.5813 - acc: 0.7886 - val_loss: 1.3096 - val_acc: 0.5547\n",
      "Epoch 82/100\n",
      "47/47 [==============================] - 9s 199ms/step - loss: 0.5350 - acc: 0.8128 - val_loss: 1.5747 - val_acc: 0.4859\n",
      "Epoch 83/100\n",
      "47/47 [==============================] - 10s 208ms/step - loss: 0.5671 - acc: 0.7959 - val_loss: 1.2617 - val_acc: 0.5484\n",
      "Epoch 84/100\n",
      "47/47 [==============================] - 9s 199ms/step - loss: 0.5409 - acc: 0.8083 - val_loss: 1.3334 - val_acc: 0.5391\n",
      "Epoch 85/100\n",
      "47/47 [==============================] - 10s 212ms/step - loss: 0.5483 - acc: 0.8052 - val_loss: 1.3324 - val_acc: 0.5547\n",
      "Epoch 86/100\n",
      "47/47 [==============================] - 10s 209ms/step - loss: 0.5335 - acc: 0.8061 - val_loss: 1.4124 - val_acc: 0.5094\n",
      "Epoch 87/100\n",
      "47/47 [==============================] - 9s 200ms/step - loss: 0.5210 - acc: 0.8022 - val_loss: 1.2721 - val_acc: 0.5781\n",
      "Epoch 88/100\n",
      "47/47 [==============================] - 9s 192ms/step - loss: 0.4963 - acc: 0.8165 - val_loss: 1.4899 - val_acc: 0.5250\n",
      "Epoch 89/100\n",
      "47/47 [==============================] - 11s 227ms/step - loss: 0.4937 - acc: 0.8316 - val_loss: 1.3772 - val_acc: 0.5547\n",
      "Epoch 90/100\n",
      "47/47 [==============================] - 11s 230ms/step - loss: 0.4828 - acc: 0.8310 - val_loss: 1.4021 - val_acc: 0.5391\n",
      "Epoch 91/100\n",
      "47/47 [==============================] - 11s 224ms/step - loss: 0.4966 - acc: 0.8231 - val_loss: 1.4174 - val_acc: 0.5156\n",
      "Epoch 92/100\n",
      "47/47 [==============================] - 10s 206ms/step - loss: 0.4826 - acc: 0.8323 - val_loss: 1.5061 - val_acc: 0.5312\n",
      "Epoch 93/100\n",
      "47/47 [==============================] - 10s 202ms/step - loss: 0.4954 - acc: 0.8202 - val_loss: 1.4423 - val_acc: 0.5469\n",
      "Epoch 94/100\n",
      "47/47 [==============================] - 10s 206ms/step - loss: 0.4668 - acc: 0.8391 - val_loss: 1.3688 - val_acc: 0.5609\n",
      "Epoch 95/100\n",
      "47/47 [==============================] - 9s 190ms/step - loss: 0.4802 - acc: 0.8316 - val_loss: 1.3808 - val_acc: 0.5516\n",
      "Epoch 96/100\n",
      "47/47 [==============================] - 10s 205ms/step - loss: 0.4764 - acc: 0.8316 - val_loss: 1.4710 - val_acc: 0.5250\n",
      "Epoch 97/100\n",
      "47/47 [==============================] - 9s 189ms/step - loss: 0.4468 - acc: 0.8337 - val_loss: 1.3305 - val_acc: 0.5703\n",
      "Epoch 98/100\n",
      "47/47 [==============================] - 10s 205ms/step - loss: 0.4579 - acc: 0.8276 - val_loss: 1.3437 - val_acc: 0.5797\n",
      "Epoch 99/100\n",
      "47/47 [==============================] - 10s 204ms/step - loss: 0.4355 - acc: 0.8539 - val_loss: 1.3804 - val_acc: 0.5453\n",
      "Epoch 100/100\n",
      "47/47 [==============================] - 10s 213ms/step - loss: 0.3931 - acc: 0.8717 - val_loss: 1.4407 - val_acc: 0.5375\n"
     ]
    },
    {
     "data": {
      "text/plain": [
       "<tensorflow.python.keras.callbacks.History at 0x169a07e8160>"
      ]
     },
     "execution_count": 11,
     "metadata": {},
     "output_type": "execute_result"
    }
   ],
   "source": [
    "model.fit_generator(x_train,steps_per_epoch=47,epochs=100,validation_data=x_test,validation_steps=20)"
   ]
  },
  {
   "cell_type": "code",
   "execution_count": 15,
   "metadata": {},
   "outputs": [],
   "source": [
    "model.save(\"flowers.h5\")"
   ]
  },
  {
   "cell_type": "code",
   "execution_count": 16,
   "metadata": {},
   "outputs": [],
   "source": [
    "from tensorflow.keras.models import load_model\n",
    "from tensorflow.keras.preprocessing import image\n",
    "import cv2\n",
    "import numpy as np"
   ]
  },
  {
   "cell_type": "code",
   "execution_count": 17,
   "metadata": {},
   "outputs": [],
   "source": [
    "index=[\"daisy\",\"dandelion\",\"rose\",\"sunflower\",\"tulip\"]"
   ]
  },
  {
   "cell_type": "code",
   "execution_count": 18,
   "metadata": {},
   "outputs": [
    {
     "name": "stdout",
     "output_type": "stream",
     "text": [
      "WARNING:tensorflow:From C:\\Users\\shiva\\Anaconda3\\lib\\site-packages\\tensorflow\\python\\ops\\init_ops.py:97: calling GlorotUniform.__init__ (from tensorflow.python.ops.init_ops) with dtype is deprecated and will be removed in a future version.\n",
      "Instructions for updating:\n",
      "Call initializer instance with the dtype argument instead of passing it to the constructor\n",
      "WARNING:tensorflow:From C:\\Users\\shiva\\Anaconda3\\lib\\site-packages\\tensorflow\\python\\ops\\init_ops.py:97: calling Zeros.__init__ (from tensorflow.python.ops.init_ops) with dtype is deprecated and will be removed in a future version.\n",
      "Instructions for updating:\n",
      "Call initializer instance with the dtype argument instead of passing it to the constructor\n"
     ]
    }
   ],
   "source": [
    "model=load_model(\"flowers.h5\")"
   ]
  },
  {
   "cell_type": "code",
   "execution_count": 19,
   "metadata": {},
   "outputs": [],
   "source": [
    "img=image.load_img(\"rose.jpg\",target_size=(64,64))"
   ]
  },
  {
   "cell_type": "code",
   "execution_count": 20,
   "metadata": {},
   "outputs": [
    {
     "data": {
      "text/plain": [
       "PIL.Image.Image"
      ]
     },
     "execution_count": 20,
     "metadata": {},
     "output_type": "execute_result"
    }
   ],
   "source": [
    "type(img)"
   ]
  },
  {
   "cell_type": "code",
   "execution_count": 21,
   "metadata": {},
   "outputs": [],
   "source": [
    "x=image.img_to_array(img)"
   ]
  },
  {
   "cell_type": "code",
   "execution_count": 22,
   "metadata": {},
   "outputs": [
    {
     "data": {
      "text/plain": [
       "numpy.ndarray"
      ]
     },
     "execution_count": 22,
     "metadata": {},
     "output_type": "execute_result"
    }
   ],
   "source": [
    "type(x)"
   ]
  },
  {
   "cell_type": "code",
   "execution_count": 23,
   "metadata": {},
   "outputs": [
    {
     "data": {
      "text/plain": [
       "(64, 64, 3)"
      ]
     },
     "execution_count": 23,
     "metadata": {},
     "output_type": "execute_result"
    }
   ],
   "source": [
    "x.shape"
   ]
  },
  {
   "cell_type": "code",
   "execution_count": 24,
   "metadata": {},
   "outputs": [],
   "source": [
    "x=np.expand_dims(x,axis=0)"
   ]
  },
  {
   "cell_type": "code",
   "execution_count": 25,
   "metadata": {},
   "outputs": [
    {
     "data": {
      "text/plain": [
       "(1, 64, 64, 3)"
      ]
     },
     "execution_count": 25,
     "metadata": {},
     "output_type": "execute_result"
    }
   ],
   "source": [
    "x.shape"
   ]
  },
  {
   "cell_type": "code",
   "execution_count": 26,
   "metadata": {},
   "outputs": [],
   "source": [
    "pred=model.predict_classes(x)"
   ]
  },
  {
   "cell_type": "code",
   "execution_count": 27,
   "metadata": {},
   "outputs": [
    {
     "data": {
      "text/plain": [
       "array([2], dtype=int64)"
      ]
     },
     "execution_count": 27,
     "metadata": {},
     "output_type": "execute_result"
    }
   ],
   "source": [
    "pred"
   ]
  },
  {
   "cell_type": "code",
   "execution_count": 28,
   "metadata": {},
   "outputs": [
    {
     "name": "stdout",
     "output_type": "stream",
     "text": [
      "rose\n"
     ]
    }
   ],
   "source": [
    "print(index[pred[0]])"
   ]
  }
 ],
 "metadata": {
  "kernelspec": {
   "display_name": "Python 3",
   "language": "python",
   "name": "python3"
  },
  "language_info": {
   "codemirror_mode": {
    "name": "ipython",
    "version": 3
   },
   "file_extension": ".py",
   "mimetype": "text/x-python",
   "name": "python",
   "nbconvert_exporter": "python",
   "pygments_lexer": "ipython3",
   "version": "3.7.3"
  }
 },
 "nbformat": 4,
 "nbformat_minor": 2
}
