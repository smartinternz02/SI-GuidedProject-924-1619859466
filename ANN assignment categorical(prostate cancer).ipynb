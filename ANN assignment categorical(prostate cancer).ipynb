{
 "cells": [
  {
   "cell_type": "code",
   "execution_count": 1,
   "metadata": {},
   "outputs": [],
   "source": [
    "import numpy as np\n",
    "import pandas as pd"
   ]
  },
  {
   "cell_type": "code",
   "execution_count": 2,
   "metadata": {},
   "outputs": [],
   "source": [
    "dataset=pd.read_csv(\"Prostate_Cancer.csv\")"
   ]
  },
  {
   "cell_type": "code",
   "execution_count": 3,
   "metadata": {},
   "outputs": [
    {
     "data": {
      "text/html": [
       "<div>\n",
       "<style scoped>\n",
       "    .dataframe tbody tr th:only-of-type {\n",
       "        vertical-align: middle;\n",
       "    }\n",
       "\n",
       "    .dataframe tbody tr th {\n",
       "        vertical-align: top;\n",
       "    }\n",
       "\n",
       "    .dataframe thead th {\n",
       "        text-align: right;\n",
       "    }\n",
       "</style>\n",
       "<table border=\"1\" class=\"dataframe\">\n",
       "  <thead>\n",
       "    <tr style=\"text-align: right;\">\n",
       "      <th></th>\n",
       "      <th>id</th>\n",
       "      <th>diagnosis_result</th>\n",
       "      <th>radius</th>\n",
       "      <th>texture</th>\n",
       "      <th>perimeter</th>\n",
       "      <th>area</th>\n",
       "      <th>smoothness</th>\n",
       "      <th>compactness</th>\n",
       "      <th>symmetry</th>\n",
       "      <th>fractal_dimension</th>\n",
       "    </tr>\n",
       "  </thead>\n",
       "  <tbody>\n",
       "    <tr>\n",
       "      <th>0</th>\n",
       "      <td>1</td>\n",
       "      <td>M</td>\n",
       "      <td>23</td>\n",
       "      <td>12</td>\n",
       "      <td>151</td>\n",
       "      <td>954</td>\n",
       "      <td>0.143</td>\n",
       "      <td>0.278</td>\n",
       "      <td>0.242</td>\n",
       "      <td>0.079</td>\n",
       "    </tr>\n",
       "    <tr>\n",
       "      <th>1</th>\n",
       "      <td>2</td>\n",
       "      <td>B</td>\n",
       "      <td>9</td>\n",
       "      <td>13</td>\n",
       "      <td>133</td>\n",
       "      <td>1326</td>\n",
       "      <td>0.143</td>\n",
       "      <td>0.079</td>\n",
       "      <td>0.181</td>\n",
       "      <td>0.057</td>\n",
       "    </tr>\n",
       "    <tr>\n",
       "      <th>2</th>\n",
       "      <td>3</td>\n",
       "      <td>M</td>\n",
       "      <td>21</td>\n",
       "      <td>27</td>\n",
       "      <td>130</td>\n",
       "      <td>1203</td>\n",
       "      <td>0.125</td>\n",
       "      <td>0.160</td>\n",
       "      <td>0.207</td>\n",
       "      <td>0.060</td>\n",
       "    </tr>\n",
       "    <tr>\n",
       "      <th>3</th>\n",
       "      <td>4</td>\n",
       "      <td>M</td>\n",
       "      <td>14</td>\n",
       "      <td>16</td>\n",
       "      <td>78</td>\n",
       "      <td>386</td>\n",
       "      <td>0.070</td>\n",
       "      <td>0.284</td>\n",
       "      <td>0.260</td>\n",
       "      <td>0.097</td>\n",
       "    </tr>\n",
       "    <tr>\n",
       "      <th>4</th>\n",
       "      <td>5</td>\n",
       "      <td>M</td>\n",
       "      <td>9</td>\n",
       "      <td>19</td>\n",
       "      <td>135</td>\n",
       "      <td>1297</td>\n",
       "      <td>0.141</td>\n",
       "      <td>0.133</td>\n",
       "      <td>0.181</td>\n",
       "      <td>0.059</td>\n",
       "    </tr>\n",
       "  </tbody>\n",
       "</table>\n",
       "</div>"
      ],
      "text/plain": [
       "   id diagnosis_result  radius  texture  perimeter  area  smoothness  \\\n",
       "0   1                M      23       12        151   954       0.143   \n",
       "1   2                B       9       13        133  1326       0.143   \n",
       "2   3                M      21       27        130  1203       0.125   \n",
       "3   4                M      14       16         78   386       0.070   \n",
       "4   5                M       9       19        135  1297       0.141   \n",
       "\n",
       "   compactness  symmetry  fractal_dimension  \n",
       "0        0.278     0.242              0.079  \n",
       "1        0.079     0.181              0.057  \n",
       "2        0.160     0.207              0.060  \n",
       "3        0.284     0.260              0.097  \n",
       "4        0.133     0.181              0.059  "
      ]
     },
     "execution_count": 3,
     "metadata": {},
     "output_type": "execute_result"
    }
   ],
   "source": [
    "dataset.head(5)"
   ]
  },
  {
   "cell_type": "code",
   "execution_count": 4,
   "metadata": {},
   "outputs": [
    {
     "data": {
      "text/plain": [
       "id                   0\n",
       "diagnosis_result     0\n",
       "radius               0\n",
       "texture              0\n",
       "perimeter            0\n",
       "area                 0\n",
       "smoothness           0\n",
       "compactness          0\n",
       "symmetry             0\n",
       "fractal_dimension    0\n",
       "dtype: int64"
      ]
     },
     "execution_count": 4,
     "metadata": {},
     "output_type": "execute_result"
    }
   ],
   "source": [
    "dataset.isnull().sum()"
   ]
  },
  {
   "cell_type": "code",
   "execution_count": 5,
   "metadata": {},
   "outputs": [
    {
     "name": "stdout",
     "output_type": "stream",
     "text": [
      "<class 'pandas.core.frame.DataFrame'>\n",
      "RangeIndex: 100 entries, 0 to 99\n",
      "Data columns (total 10 columns):\n",
      "id                   100 non-null int64\n",
      "diagnosis_result     100 non-null object\n",
      "radius               100 non-null int64\n",
      "texture              100 non-null int64\n",
      "perimeter            100 non-null int64\n",
      "area                 100 non-null int64\n",
      "smoothness           100 non-null float64\n",
      "compactness          100 non-null float64\n",
      "symmetry             100 non-null float64\n",
      "fractal_dimension    100 non-null float64\n",
      "dtypes: float64(4), int64(5), object(1)\n",
      "memory usage: 7.9+ KB\n"
     ]
    }
   ],
   "source": [
    "dataset.info()"
   ]
  },
  {
   "cell_type": "code",
   "execution_count": 6,
   "metadata": {},
   "outputs": [],
   "source": [
    "x=dataset.iloc[:,2:10].values\n",
    "y=dataset.iloc[:,1:2].values"
   ]
  },
  {
   "cell_type": "code",
   "execution_count": 7,
   "metadata": {},
   "outputs": [
    {
     "data": {
      "text/plain": [
       "array([[2.300e+01, 1.200e+01, 1.510e+02, 9.540e+02, 1.430e-01, 2.780e-01,\n",
       "        2.420e-01, 7.900e-02],\n",
       "       [9.000e+00, 1.300e+01, 1.330e+02, 1.326e+03, 1.430e-01, 7.900e-02,\n",
       "        1.810e-01, 5.700e-02],\n",
       "       [2.100e+01, 2.700e+01, 1.300e+02, 1.203e+03, 1.250e-01, 1.600e-01,\n",
       "        2.070e-01, 6.000e-02],\n",
       "       [1.400e+01, 1.600e+01, 7.800e+01, 3.860e+02, 7.000e-02, 2.840e-01,\n",
       "        2.600e-01, 9.700e-02],\n",
       "       [9.000e+00, 1.900e+01, 1.350e+02, 1.297e+03, 1.410e-01, 1.330e-01,\n",
       "        1.810e-01, 5.900e-02],\n",
       "       [2.500e+01, 2.500e+01, 8.300e+01, 4.770e+02, 1.280e-01, 1.700e-01,\n",
       "        2.090e-01, 7.600e-02],\n",
       "       [1.600e+01, 2.600e+01, 1.200e+02, 1.040e+03, 9.500e-02, 1.090e-01,\n",
       "        1.790e-01, 5.700e-02],\n",
       "       [1.500e+01, 1.800e+01, 9.000e+01, 5.780e+02, 1.190e-01, 1.650e-01,\n",
       "        2.200e-01, 7.500e-02],\n",
       "       [1.900e+01, 2.400e+01, 8.800e+01, 5.200e+02, 1.270e-01, 1.930e-01,\n",
       "        2.350e-01, 7.400e-02],\n",
       "       [2.500e+01, 1.100e+01, 8.400e+01, 4.760e+02, 1.190e-01, 2.400e-01,\n",
       "        2.030e-01, 8.200e-02],\n",
       "       [2.400e+01, 2.100e+01, 1.030e+02, 7.980e+02, 8.200e-02, 6.700e-02,\n",
       "        1.530e-01, 5.700e-02],\n",
       "       [1.700e+01, 1.500e+01, 1.040e+02, 7.810e+02, 9.700e-02, 1.290e-01,\n",
       "        1.840e-01, 6.100e-02],\n",
       "       [1.400e+01, 1.500e+01, 1.320e+02, 1.123e+03, 9.700e-02, 2.460e-01,\n",
       "        2.400e-01, 7.800e-02],\n",
       "       [1.200e+01, 2.200e+01, 1.040e+02, 7.830e+02, 8.400e-02, 1.000e-01,\n",
       "        1.850e-01, 5.300e-02],\n",
       "       [1.200e+01, 1.300e+01, 9.400e+01, 5.780e+02, 1.130e-01, 2.290e-01,\n",
       "        2.070e-01, 7.700e-02],\n",
       "       [2.200e+01, 1.900e+01, 9.700e+01, 6.590e+02, 1.140e-01, 1.600e-01,\n",
       "        2.300e-01, 7.100e-02],\n",
       "       [1.000e+01, 1.600e+01, 9.500e+01, 6.850e+02, 9.900e-02, 7.200e-02,\n",
       "        1.590e-01, 5.900e-02],\n",
       "       [1.500e+01, 1.400e+01, 1.080e+02, 7.990e+02, 1.170e-01, 2.020e-01,\n",
       "        2.160e-01, 7.400e-02],\n",
       "       [2.000e+01, 1.400e+01, 1.300e+02, 1.260e+03, 9.800e-02, 1.030e-01,\n",
       "        1.580e-01, 5.400e-02],\n",
       "       [1.700e+01, 1.100e+01, 8.700e+01, 5.660e+02, 9.800e-02, 8.100e-02,\n",
       "        1.890e-01, 5.800e-02],\n",
       "       [1.600e+01, 1.400e+01, 8.600e+01, 5.200e+02, 1.080e-01, 1.270e-01,\n",
       "        1.970e-01, 6.800e-02],\n",
       "       [1.700e+01, 2.400e+01, 6.000e+01, 2.740e+02, 1.020e-01, 6.500e-02,\n",
       "        1.820e-01, 6.900e-02],\n",
       "       [2.000e+01, 2.700e+01, 1.030e+02, 7.040e+02, 1.070e-01, 2.140e-01,\n",
       "        2.520e-01, 7.000e-02],\n",
       "       [1.900e+01, 1.200e+01, 1.370e+02, 1.404e+03, 9.400e-02, 1.020e-01,\n",
       "        1.770e-01, 5.300e-02],\n",
       "       [9.000e+00, 1.300e+01, 1.100e+02, 9.050e+02, 1.120e-01, 1.460e-01,\n",
       "        2.000e-01, 6.300e-02],\n",
       "       [1.900e+01, 2.700e+01, 1.160e+02, 9.130e+02, 1.190e-01, 2.280e-01,\n",
       "        3.040e-01, 7.400e-02],\n",
       "       [1.000e+01, 2.400e+01, 9.700e+01, 6.450e+02, 1.050e-01, 1.870e-01,\n",
       "        2.250e-01, 6.900e-02],\n",
       "       [1.600e+01, 2.400e+01, 1.220e+02, 1.094e+03, 9.400e-02, 1.070e-01,\n",
       "        1.700e-01, 5.700e-02],\n",
       "       [1.500e+01, 1.500e+01, 1.020e+02, 7.320e+02, 1.080e-01, 1.700e-01,\n",
       "        1.930e-01, 6.500e-02],\n",
       "       [1.100e+01, 1.600e+01, 1.150e+02, 9.550e+02, 9.800e-02, 1.160e-01,\n",
       "        1.740e-01, 6.100e-02],\n",
       "       [1.100e+01, 2.200e+01, 1.250e+02, 1.088e+03, 1.060e-01, 1.890e-01,\n",
       "        2.180e-01, 6.200e-02],\n",
       "       [2.300e+01, 2.600e+01, 7.800e+01, 4.410e+02, 1.110e-01, 1.520e-01,\n",
       "        2.300e-01, 7.800e-02],\n",
       "       [2.000e+01, 1.800e+01, 1.130e+02, 8.990e+02, 1.200e-01, 1.500e-01,\n",
       "        2.250e-01, 6.400e-02],\n",
       "       [1.100e+01, 2.100e+01, 1.280e+02, 1.162e+03, 9.400e-02, 1.720e-01,\n",
       "        1.850e-01, 6.300e-02],\n",
       "       [1.600e+01, 2.300e+01, 1.070e+02, 8.070e+02, 1.040e-01, 1.560e-01,\n",
       "        2.000e-01, 6.500e-02],\n",
       "       [1.000e+01, 1.300e+01, 1.100e+02, 8.700e+02, 9.600e-02, 1.340e-01,\n",
       "        1.900e-01, 5.700e-02],\n",
       "       [1.800e+01, 1.200e+01, 9.400e+01, 6.330e+02, 9.800e-02, 1.100e-01,\n",
       "        1.890e-01, 6.100e-02],\n",
       "       [2.100e+01, 1.100e+01, 8.300e+01, 5.240e+02, 9.000e-02, 3.800e-02,\n",
       "        1.470e-01, 5.900e-02],\n",
       "       [1.100e+01, 1.500e+01, 9.600e+01, 6.990e+02, 9.400e-02, 5.100e-02,\n",
       "        1.570e-01, 5.500e-02],\n",
       "       [1.000e+01, 1.400e+01, 8.800e+01, 5.590e+02, 1.020e-01, 1.260e-01,\n",
       "        1.720e-01, 6.400e-02],\n",
       "       [2.400e+01, 1.600e+01, 8.600e+01, 5.630e+02, 8.200e-02, 6.000e-02,\n",
       "        1.780e-01, 5.600e-02],\n",
       "       [1.900e+01, 2.700e+01, 7.200e+01, 3.710e+02, 1.230e-01, 1.220e-01,\n",
       "        1.900e-01, 6.900e-02],\n",
       "       [1.100e+01, 1.100e+01, 1.280e+02, 1.104e+03, 9.100e-02, 2.190e-01,\n",
       "        2.310e-01, 6.300e-02],\n",
       "       [1.500e+01, 2.100e+01, 8.700e+01, 5.450e+02, 1.040e-01, 1.440e-01,\n",
       "        1.970e-01, 6.800e-02],\n",
       "       [1.000e+01, 1.500e+01, 8.500e+01, 5.320e+02, 9.700e-02, 1.050e-01,\n",
       "        1.750e-01, 6.200e-02],\n",
       "       [1.800e+01, 1.100e+01, 1.240e+02, 1.076e+03, 1.100e-01, 1.690e-01,\n",
       "        1.910e-01, 6.000e-02],\n",
       "       [2.200e+01, 1.200e+01, 5.200e+01, 2.020e+02, 8.600e-02, 5.900e-02,\n",
       "        1.770e-01, 6.500e-02],\n",
       "       [2.000e+01, 1.400e+01, 8.600e+01, 5.350e+02, 1.160e-01, 1.230e-01,\n",
       "        2.130e-01, 6.800e-02],\n",
       "       [2.000e+01, 2.100e+01, 7.800e+01, 4.490e+02, 1.030e-01, 9.100e-02,\n",
       "        1.680e-01, 6.000e-02],\n",
       "       [2.500e+01, 1.100e+01, 8.700e+01, 5.610e+02, 8.800e-02, 7.700e-02,\n",
       "        1.810e-01, 5.700e-02],\n",
       "       [1.900e+01, 2.500e+01, 7.500e+01, 4.280e+02, 8.600e-02, 5.000e-02,\n",
       "        1.500e-01, 5.900e-02],\n",
       "       [1.900e+01, 2.200e+01, 8.700e+01, 5.720e+02, 7.700e-02, 6.100e-02,\n",
       "        1.350e-01, 6.000e-02],\n",
       "       [2.500e+01, 1.500e+01, 7.600e+01, 4.380e+02, 8.300e-02, 4.800e-02,\n",
       "        1.870e-01, 6.100e-02],\n",
       "       [1.400e+01, 2.600e+01, 1.200e+02, 1.033e+03, 1.150e-01, 1.490e-01,\n",
       "        2.090e-01, 6.300e-02],\n",
       "       [1.800e+01, 2.500e+01, 9.700e+01, 7.130e+02, 9.100e-02, 7.100e-02,\n",
       "        1.620e-01, 5.700e-02],\n",
       "       [1.800e+01, 1.300e+01, 7.300e+01, 4.090e+02, 9.500e-02, 5.500e-02,\n",
       "        1.920e-01, 5.900e-02],\n",
       "       [1.000e+01, 1.900e+01, 1.260e+02, 1.152e+03, 1.050e-01, 1.270e-01,\n",
       "        1.920e-01, 6.000e-02],\n",
       "       [1.700e+01, 2.000e+01, 9.600e+01, 6.570e+02, 1.140e-01, 1.370e-01,\n",
       "        2.030e-01, 6.800e-02],\n",
       "       [2.200e+01, 1.500e+01, 8.300e+01, 5.270e+02, 8.100e-02, 3.800e-02,\n",
       "        1.820e-01, 5.500e-02],\n",
       "       [2.300e+01, 2.600e+01, 5.400e+01, 2.250e+02, 9.800e-02, 5.300e-02,\n",
       "        1.680e-01, 7.200e-02],\n",
       "       [1.500e+01, 1.800e+01, 6.500e+01, 3.120e+02, 1.130e-01, 8.100e-02,\n",
       "        2.740e-01, 7.000e-02],\n",
       "       [2.500e+01, 1.500e+01, 5.500e+01, 2.220e+02, 1.240e-01, 9.000e-02,\n",
       "        1.830e-01, 6.800e-02],\n",
       "       [1.200e+01, 2.200e+01, 9.600e+01, 6.460e+02, 1.050e-01, 2.010e-01,\n",
       "        1.950e-01, 7.300e-02],\n",
       "       [2.400e+01, 1.700e+01, 5.900e+01, 2.610e+02, 7.700e-02, 8.800e-02,\n",
       "        2.340e-01, 7.000e-02],\n",
       "       [1.600e+01, 1.900e+01, 8.300e+01, 4.990e+02, 1.120e-01, 1.260e-01,\n",
       "        1.910e-01, 6.600e-02],\n",
       "       [1.100e+01, 2.100e+01, 9.700e+01, 6.680e+02, 1.170e-01, 1.480e-01,\n",
       "        1.950e-01, 6.700e-02],\n",
       "       [1.200e+01, 1.300e+01, 6.000e+01, 2.690e+02, 1.040e-01, 7.800e-02,\n",
       "        1.720e-01, 6.900e-02],\n",
       "       [1.800e+01, 1.200e+01, 7.200e+01, 3.940e+02, 8.100e-02, 4.700e-02,\n",
       "        1.520e-01, 5.700e-02],\n",
       "       [1.600e+01, 1.700e+01, 5.900e+01, 2.510e+02, 1.070e-01, 1.410e-01,\n",
       "        2.110e-01, 8.000e-02],\n",
       "       [1.700e+01, 2.100e+01, 8.100e+01, 5.030e+02, 9.800e-02, 5.200e-02,\n",
       "        1.590e-01, 5.700e-02],\n",
       "       [2.100e+01, 1.800e+01, 1.240e+02, 1.130e+03, 9.000e-02, 1.030e-01,\n",
       "        1.580e-01, 5.500e-02],\n",
       "       [9.000e+00, 2.600e+01, 5.900e+01, 2.440e+02, 9.800e-02, 1.530e-01,\n",
       "        1.900e-01, 9.000e-02],\n",
       "       [2.100e+01, 1.200e+01, 1.140e+02, 9.290e+02, 1.070e-01, 1.830e-01,\n",
       "        1.930e-01, 6.500e-02],\n",
       "       [2.200e+01, 2.500e+01, 9.000e+01, 5.840e+02, 1.010e-01, 1.280e-01,\n",
       "        1.660e-01, 6.600e-02],\n",
       "       [1.800e+01, 1.300e+01, 7.900e+01, 4.710e+02, 9.200e-02, 6.800e-02,\n",
       "        1.720e-01, 5.900e-02],\n",
       "       [2.100e+01, 1.800e+01, 1.040e+02, 8.180e+02, 9.200e-02, 8.400e-02,\n",
       "        1.800e-01, 5.400e-02],\n",
       "       [1.000e+01, 1.700e+01, 8.800e+01, 5.590e+02, 1.290e-01, 1.050e-01,\n",
       "        2.400e-01, 6.600e-02],\n",
       "       [1.100e+01, 2.100e+01, 1.200e+02, 1.006e+03, 1.070e-01, 2.150e-01,\n",
       "        2.150e-01, 6.700e-02],\n",
       "       [1.600e+01, 1.800e+01, 1.440e+02, 1.245e+03, 1.290e-01, 3.450e-01,\n",
       "        2.910e-01, 8.100e-02],\n",
       "       [2.200e+01, 1.600e+01, 8.300e+01, 5.060e+02, 9.900e-02, 9.500e-02,\n",
       "        1.720e-01, 6.000e-02],\n",
       "       [1.000e+01, 1.800e+01, 7.400e+01, 4.020e+02, 1.100e-01, 9.400e-02,\n",
       "        1.840e-01, 7.000e-02],\n",
       "       [1.700e+01, 2.100e+01, 8.600e+01, 5.200e+02, 1.080e-01, 1.540e-01,\n",
       "        1.940e-01, 6.900e-02],\n",
       "       [1.000e+01, 1.500e+01, 1.720e+02, 1.878e+03, 1.060e-01, 2.670e-01,\n",
       "        1.830e-01, 6.800e-02],\n",
       "       [2.000e+01, 1.400e+01, 1.290e+02, 1.132e+03, 1.220e-01, 1.790e-01,\n",
       "        1.630e-01, 7.200e-02],\n",
       "       [2.500e+01, 2.100e+01, 7.700e+01, 4.430e+02, 9.700e-02, 7.200e-02,\n",
       "        2.080e-01, 6.000e-02],\n",
       "       [1.400e+01, 1.300e+01, 1.210e+02, 1.075e+03, 9.900e-02, 1.050e-01,\n",
       "        2.130e-01, 6.000e-02],\n",
       "       [1.900e+01, 2.600e+01, 9.400e+01, 6.480e+02, 9.400e-02, 9.900e-02,\n",
       "        2.080e-01, 5.600e-02],\n",
       "       [1.900e+01, 1.100e+01, 1.220e+02, 1.076e+03, 9.000e-02, 1.210e-01,\n",
       "        1.950e-01, 5.600e-02],\n",
       "       [1.100e+01, 1.100e+01, 8.000e+01, 4.660e+02, 8.800e-02, 9.400e-02,\n",
       "        1.930e-01, 6.400e-02],\n",
       "       [1.200e+01, 2.300e+01, 9.600e+01, 6.520e+02, 1.130e-01, 1.340e-01,\n",
       "        2.120e-01, 6.300e-02],\n",
       "       [2.300e+01, 2.700e+01, 9.500e+01, 6.630e+02, 9.000e-02, 8.600e-02,\n",
       "        1.690e-01, 5.900e-02],\n",
       "       [1.000e+01, 1.200e+01, 1.000e+02, 7.280e+02, 9.200e-02, 1.040e-01,\n",
       "        1.720e-01, 6.100e-02],\n",
       "       [1.400e+01, 1.400e+01, 8.500e+01, 5.520e+02, 7.400e-02, 5.100e-02,\n",
       "        1.390e-01, 5.300e-02],\n",
       "       [1.000e+01, 1.700e+01, 8.700e+01, 5.550e+02, 1.020e-01, 8.200e-02,\n",
       "        1.640e-01, 5.700e-02],\n",
       "       [2.200e+01, 2.600e+01, 1.000e+02, 7.060e+02, 1.040e-01, 1.550e-01,\n",
       "        1.860e-01, 6.300e-02],\n",
       "       [2.300e+01, 1.600e+01, 1.320e+02, 1.264e+03, 9.100e-02, 1.310e-01,\n",
       "        2.100e-01, 5.600e-02],\n",
       "       [2.200e+01, 1.400e+01, 7.800e+01, 4.510e+02, 1.050e-01, 7.100e-02,\n",
       "        1.900e-01, 6.600e-02],\n",
       "       [1.900e+01, 2.700e+01, 6.200e+01, 2.950e+02, 1.020e-01, 5.300e-02,\n",
       "        1.350e-01, 6.900e-02],\n",
       "       [2.100e+01, 2.400e+01, 7.400e+01, 4.130e+02, 9.000e-02, 7.500e-02,\n",
       "        1.620e-01, 6.600e-02],\n",
       "       [1.600e+01, 2.700e+01, 9.400e+01, 6.430e+02, 9.800e-02, 1.140e-01,\n",
       "        1.880e-01, 6.400e-02]])"
      ]
     },
     "execution_count": 7,
     "metadata": {},
     "output_type": "execute_result"
    }
   ],
   "source": [
    "x"
   ]
  },
  {
   "cell_type": "code",
   "execution_count": 8,
   "metadata": {},
   "outputs": [
    {
     "data": {
      "text/plain": [
       "array([['M'],\n",
       "       ['B'],\n",
       "       ['M'],\n",
       "       ['M'],\n",
       "       ['M'],\n",
       "       ['B'],\n",
       "       ['M'],\n",
       "       ['M'],\n",
       "       ['M'],\n",
       "       ['M'],\n",
       "       ['M'],\n",
       "       ['M'],\n",
       "       ['B'],\n",
       "       ['M'],\n",
       "       ['M'],\n",
       "       ['M'],\n",
       "       ['M'],\n",
       "       ['M'],\n",
       "       ['M'],\n",
       "       ['B'],\n",
       "       ['B'],\n",
       "       ['B'],\n",
       "       ['M'],\n",
       "       ['M'],\n",
       "       ['M'],\n",
       "       ['M'],\n",
       "       ['M'],\n",
       "       ['M'],\n",
       "       ['M'],\n",
       "       ['M'],\n",
       "       ['M'],\n",
       "       ['M'],\n",
       "       ['M'],\n",
       "       ['M'],\n",
       "       ['M'],\n",
       "       ['M'],\n",
       "       ['M'],\n",
       "       ['B'],\n",
       "       ['M'],\n",
       "       ['M'],\n",
       "       ['M'],\n",
       "       ['M'],\n",
       "       ['M'],\n",
       "       ['M'],\n",
       "       ['M'],\n",
       "       ['M'],\n",
       "       ['B'],\n",
       "       ['M'],\n",
       "       ['B'],\n",
       "       ['B'],\n",
       "       ['B'],\n",
       "       ['B'],\n",
       "       ['B'],\n",
       "       ['M'],\n",
       "       ['M'],\n",
       "       ['B'],\n",
       "       ['M'],\n",
       "       ['M'],\n",
       "       ['B'],\n",
       "       ['B'],\n",
       "       ['B'],\n",
       "       ['B'],\n",
       "       ['M'],\n",
       "       ['B'],\n",
       "       ['M'],\n",
       "       ['M'],\n",
       "       ['B'],\n",
       "       ['B'],\n",
       "       ['B'],\n",
       "       ['B'],\n",
       "       ['M'],\n",
       "       ['B'],\n",
       "       ['M'],\n",
       "       ['M'],\n",
       "       ['B'],\n",
       "       ['M'],\n",
       "       ['B'],\n",
       "       ['M'],\n",
       "       ['M'],\n",
       "       ['B'],\n",
       "       ['B'],\n",
       "       ['B'],\n",
       "       ['M'],\n",
       "       ['M'],\n",
       "       ['B'],\n",
       "       ['M'],\n",
       "       ['M'],\n",
       "       ['M'],\n",
       "       ['B'],\n",
       "       ['B'],\n",
       "       ['B'],\n",
       "       ['M'],\n",
       "       ['B'],\n",
       "       ['B'],\n",
       "       ['M'],\n",
       "       ['M'],\n",
       "       ['B'],\n",
       "       ['B'],\n",
       "       ['B'],\n",
       "       ['M']], dtype=object)"
      ]
     },
     "execution_count": 8,
     "metadata": {},
     "output_type": "execute_result"
    }
   ],
   "source": [
    "y"
   ]
  },
  {
   "cell_type": "code",
   "execution_count": 9,
   "metadata": {},
   "outputs": [],
   "source": [
    "from sklearn.preprocessing import OneHotEncoder\n",
    "from sklearn.compose import ColumnTransformer\n",
    "ct=ColumnTransformer([(\"oh\",OneHotEncoder(),[0])],remainder=\"passthrough\")\n",
    "#coverts data into binary form\n",
    "y=ct.fit_transform(y)"
   ]
  },
  {
   "cell_type": "code",
   "execution_count": 10,
   "metadata": {},
   "outputs": [
    {
     "data": {
      "text/plain": [
       "(100, 2)"
      ]
     },
     "execution_count": 10,
     "metadata": {},
     "output_type": "execute_result"
    }
   ],
   "source": [
    "y.shape"
   ]
  },
  {
   "cell_type": "code",
   "execution_count": 13,
   "metadata": {},
   "outputs": [],
   "source": [
    "from sklearn.model_selection import train_test_split\n",
    "x_train,x_test,y_train,y_test=train_test_split(x,y,test_size=0.2,random_state=0) #test_size=0.2 is 20% testing data"
   ]
  },
  {
   "cell_type": "code",
   "execution_count": 14,
   "metadata": {},
   "outputs": [],
   "source": [
    "x_train = np.asarray(x_train).astype('float32')\n",
    "x_test = np.asarray(x_test).astype('float32')\n",
    "y_train = np.asarray(y_train).astype('float32')\n",
    "y_test = np.asarray(y_test).astype('float32')"
   ]
  },
  {
   "cell_type": "code",
   "execution_count": 15,
   "metadata": {},
   "outputs": [],
   "source": [
    "from sklearn.preprocessing import StandardScaler\n",
    "sc=StandardScaler()\n",
    "x_train=sc.fit_transform(x_train)\n",
    "x_test=sc.fit_transform(x_test)"
   ]
  },
  {
   "cell_type": "code",
   "execution_count": 16,
   "metadata": {},
   "outputs": [],
   "source": [
    "from tensorflow.keras.models import Sequential #used to initialize\n",
    "from tensorflow.keras.layers import Dense #used to add layers"
   ]
  },
  {
   "cell_type": "code",
   "execution_count": 17,
   "metadata": {},
   "outputs": [],
   "source": [
    "cat=Sequential()"
   ]
  },
  {
   "cell_type": "code",
   "execution_count": 18,
   "metadata": {},
   "outputs": [
    {
     "name": "stdout",
     "output_type": "stream",
     "text": [
      "WARNING:tensorflow:From C:\\Users\\shiva\\Anaconda3\\lib\\site-packages\\tensorflow\\python\\keras\\initializers.py:119: calling RandomUniform.__init__ (from tensorflow.python.ops.init_ops) with dtype is deprecated and will be removed in a future version.\n",
      "Instructions for updating:\n",
      "Call initializer instance with the dtype argument instead of passing it to the constructor\n"
     ]
    }
   ],
   "source": [
    "cat.add(Dense(8,kernel_initializer =\"random_uniform\",activation=\"relu\"))"
   ]
  },
  {
   "cell_type": "code",
   "execution_count": 19,
   "metadata": {},
   "outputs": [],
   "source": [
    "cat.add(Dense(16,kernel_initializer =\"random_uniform\",activation=\"relu\"))"
   ]
  },
  {
   "cell_type": "code",
   "execution_count": 20,
   "metadata": {},
   "outputs": [],
   "source": [
    "cat.add(Dense(2,kernel_initializer =\"random_uniform\",activation=\"softmax\"))"
   ]
  },
  {
   "cell_type": "code",
   "execution_count": 21,
   "metadata": {},
   "outputs": [],
   "source": [
    "cat.compile(\"adam\",\"binary_crossentropy\",metrics=[\"accuracy\"]) #nick name for batch gradient is adam."
   ]
  },
  {
   "cell_type": "code",
   "execution_count": 22,
   "metadata": {},
   "outputs": [
    {
     "name": "stdout",
     "output_type": "stream",
     "text": [
      "WARNING:tensorflow:From C:\\Users\\shiva\\Anaconda3\\lib\\site-packages\\tensorflow\\python\\ops\\math_grad.py:1250: add_dispatch_support.<locals>.wrapper (from tensorflow.python.ops.array_ops) is deprecated and will be removed in a future version.\n",
      "Instructions for updating:\n",
      "Use tf.where in 2.0, which has the same broadcast rule as np.where\n",
      "Epoch 1/20\n",
      "80/80 [==============================] - 0s 5ms/sample - loss: 0.6930 - acc: 0.6000\n",
      "Epoch 2/20\n",
      "80/80 [==============================] - 0s 249us/sample - loss: 0.6925 - acc: 0.5625\n",
      "Epoch 3/20\n",
      "80/80 [==============================] - 0s 187us/sample - loss: 0.6921 - acc: 0.5625\n",
      "Epoch 4/20\n",
      "80/80 [==============================] - 0s 283us/sample - loss: 0.6917 - acc: 0.5625\n",
      "Epoch 5/20\n",
      "80/80 [==============================] - 0s 253us/sample - loss: 0.6913 - acc: 0.5625\n",
      "Epoch 6/20\n",
      "80/80 [==============================] - 0s 212us/sample - loss: 0.6908 - acc: 0.5625\n",
      "Epoch 7/20\n",
      "80/80 [==============================] - 0s 243us/sample - loss: 0.6901 - acc: 0.5625\n",
      "Epoch 8/20\n",
      "80/80 [==============================] - 0s 187us/sample - loss: 0.6894 - acc: 0.5625\n",
      "Epoch 9/20\n",
      "80/80 [==============================] - 0s 199us/sample - loss: 0.6886 - acc: 0.5625\n",
      "Epoch 10/20\n",
      "80/80 [==============================] - 0s 224us/sample - loss: 0.6875 - acc: 0.5625\n",
      "Epoch 11/20\n",
      "80/80 [==============================] - 0s 249us/sample - loss: 0.6863 - acc: 0.5625\n",
      "Epoch 12/20\n",
      "80/80 [==============================] - 0s 200us/sample - loss: 0.6845 - acc: 0.5625\n",
      "Epoch 13/20\n",
      "80/80 [==============================] - 0s 212us/sample - loss: 0.6826 - acc: 0.5625\n",
      "Epoch 14/20\n",
      "80/80 [==============================] - 0s 249us/sample - loss: 0.6803 - acc: 0.5875\n",
      "Epoch 15/20\n",
      "80/80 [==============================] - 0s 212us/sample - loss: 0.6775 - acc: 0.6875\n",
      "Epoch 16/20\n",
      "80/80 [==============================] - 0s 187us/sample - loss: 0.6742 - acc: 0.7375\n",
      "Epoch 17/20\n",
      "80/80 [==============================] - 0s 187us/sample - loss: 0.6706 - acc: 0.8250\n",
      "Epoch 18/20\n",
      "80/80 [==============================] - 0s 199us/sample - loss: 0.6662 - acc: 0.8125\n",
      "Epoch 19/20\n",
      "80/80 [==============================] - 0s 237us/sample - loss: 0.6611 - acc: 0.8125\n",
      "Epoch 20/20\n",
      "80/80 [==============================] - 0s 175us/sample - loss: 0.6556 - acc: 0.8375\n"
     ]
    },
    {
     "data": {
      "text/plain": [
       "<tensorflow.python.keras.callbacks.History at 0x2b692251b00>"
      ]
     },
     "execution_count": 22,
     "metadata": {},
     "output_type": "execute_result"
    }
   ],
   "source": [
    "cat.fit(x_train,y_train,batch_size=32,epochs=20)"
   ]
  },
  {
   "cell_type": "code",
   "execution_count": 24,
   "metadata": {},
   "outputs": [],
   "source": [
    "ypred=cat.predict(x_test)"
   ]
  },
  {
   "cell_type": "code",
   "execution_count": 25,
   "metadata": {},
   "outputs": [
    {
     "data": {
      "text/plain": [
       "array([[0.48082328, 0.5191768 ],\n",
       "       [0.5093831 , 0.49061698],\n",
       "       [0.45441368, 0.54558635],\n",
       "       [0.5257996 , 0.47420043],\n",
       "       [0.5079073 , 0.49209276],\n",
       "       [0.5059938 , 0.49400625],\n",
       "       [0.5013097 , 0.49869025],\n",
       "       [0.517953  , 0.48204708],\n",
       "       [0.5162394 , 0.4837606 ],\n",
       "       [0.4522826 , 0.54771745],\n",
       "       [0.46000782, 0.5399921 ],\n",
       "       [0.5255053 , 0.4744947 ],\n",
       "       [0.42841074, 0.57158923],\n",
       "       [0.49183652, 0.50816345],\n",
       "       [0.4930819 , 0.50691813],\n",
       "       [0.4489058 , 0.55109423],\n",
       "       [0.4777801 , 0.5222199 ],\n",
       "       [0.45846435, 0.54153574],\n",
       "       [0.44761735, 0.55238265],\n",
       "       [0.49384293, 0.50615716]], dtype=float32)"
      ]
     },
     "execution_count": 25,
     "metadata": {},
     "output_type": "execute_result"
    }
   ],
   "source": [
    "ypred"
   ]
  },
  {
   "cell_type": "code",
   "execution_count": 26,
   "metadata": {},
   "outputs": [
    {
     "data": {
      "text/plain": [
       "array([[0., 1.],\n",
       "       [0., 1.],\n",
       "       [0., 1.],\n",
       "       [1., 0.],\n",
       "       [0., 1.],\n",
       "       [1., 0.],\n",
       "       [0., 1.],\n",
       "       [0., 1.],\n",
       "       [0., 1.],\n",
       "       [0., 1.],\n",
       "       [0., 1.],\n",
       "       [1., 0.],\n",
       "       [0., 1.],\n",
       "       [0., 1.],\n",
       "       [0., 1.],\n",
       "       [0., 1.],\n",
       "       [0., 1.],\n",
       "       [0., 1.],\n",
       "       [0., 1.],\n",
       "       [0., 1.]], dtype=float32)"
      ]
     },
     "execution_count": 26,
     "metadata": {},
     "output_type": "execute_result"
    }
   ],
   "source": [
    "y_test"
   ]
  },
  {
   "cell_type": "code",
   "execution_count": 33,
   "metadata": {},
   "outputs": [
    {
     "data": {
      "text/html": [
       "<div>\n",
       "<style scoped>\n",
       "    .dataframe tbody tr th:only-of-type {\n",
       "        vertical-align: middle;\n",
       "    }\n",
       "\n",
       "    .dataframe tbody tr th {\n",
       "        vertical-align: top;\n",
       "    }\n",
       "\n",
       "    .dataframe thead th {\n",
       "        text-align: right;\n",
       "    }\n",
       "</style>\n",
       "<table border=\"1\" class=\"dataframe\">\n",
       "  <thead>\n",
       "    <tr style=\"text-align: right;\">\n",
       "      <th></th>\n",
       "      <th>id</th>\n",
       "      <th>diagnosis_result</th>\n",
       "      <th>radius</th>\n",
       "      <th>texture</th>\n",
       "      <th>perimeter</th>\n",
       "      <th>area</th>\n",
       "      <th>smoothness</th>\n",
       "      <th>compactness</th>\n",
       "      <th>symmetry</th>\n",
       "      <th>fractal_dimension</th>\n",
       "    </tr>\n",
       "  </thead>\n",
       "  <tbody>\n",
       "    <tr>\n",
       "      <th>0</th>\n",
       "      <td>1</td>\n",
       "      <td>M</td>\n",
       "      <td>23</td>\n",
       "      <td>12</td>\n",
       "      <td>151</td>\n",
       "      <td>954</td>\n",
       "      <td>0.143</td>\n",
       "      <td>0.278</td>\n",
       "      <td>0.242</td>\n",
       "      <td>0.079</td>\n",
       "    </tr>\n",
       "    <tr>\n",
       "      <th>1</th>\n",
       "      <td>2</td>\n",
       "      <td>B</td>\n",
       "      <td>9</td>\n",
       "      <td>13</td>\n",
       "      <td>133</td>\n",
       "      <td>1326</td>\n",
       "      <td>0.143</td>\n",
       "      <td>0.079</td>\n",
       "      <td>0.181</td>\n",
       "      <td>0.057</td>\n",
       "    </tr>\n",
       "    <tr>\n",
       "      <th>2</th>\n",
       "      <td>3</td>\n",
       "      <td>M</td>\n",
       "      <td>21</td>\n",
       "      <td>27</td>\n",
       "      <td>130</td>\n",
       "      <td>1203</td>\n",
       "      <td>0.125</td>\n",
       "      <td>0.160</td>\n",
       "      <td>0.207</td>\n",
       "      <td>0.060</td>\n",
       "    </tr>\n",
       "    <tr>\n",
       "      <th>3</th>\n",
       "      <td>4</td>\n",
       "      <td>M</td>\n",
       "      <td>14</td>\n",
       "      <td>16</td>\n",
       "      <td>78</td>\n",
       "      <td>386</td>\n",
       "      <td>0.070</td>\n",
       "      <td>0.284</td>\n",
       "      <td>0.260</td>\n",
       "      <td>0.097</td>\n",
       "    </tr>\n",
       "    <tr>\n",
       "      <th>4</th>\n",
       "      <td>5</td>\n",
       "      <td>M</td>\n",
       "      <td>9</td>\n",
       "      <td>19</td>\n",
       "      <td>135</td>\n",
       "      <td>1297</td>\n",
       "      <td>0.141</td>\n",
       "      <td>0.133</td>\n",
       "      <td>0.181</td>\n",
       "      <td>0.059</td>\n",
       "    </tr>\n",
       "    <tr>\n",
       "      <th>5</th>\n",
       "      <td>6</td>\n",
       "      <td>B</td>\n",
       "      <td>25</td>\n",
       "      <td>25</td>\n",
       "      <td>83</td>\n",
       "      <td>477</td>\n",
       "      <td>0.128</td>\n",
       "      <td>0.170</td>\n",
       "      <td>0.209</td>\n",
       "      <td>0.076</td>\n",
       "    </tr>\n",
       "    <tr>\n",
       "      <th>6</th>\n",
       "      <td>7</td>\n",
       "      <td>M</td>\n",
       "      <td>16</td>\n",
       "      <td>26</td>\n",
       "      <td>120</td>\n",
       "      <td>1040</td>\n",
       "      <td>0.095</td>\n",
       "      <td>0.109</td>\n",
       "      <td>0.179</td>\n",
       "      <td>0.057</td>\n",
       "    </tr>\n",
       "    <tr>\n",
       "      <th>7</th>\n",
       "      <td>8</td>\n",
       "      <td>M</td>\n",
       "      <td>15</td>\n",
       "      <td>18</td>\n",
       "      <td>90</td>\n",
       "      <td>578</td>\n",
       "      <td>0.119</td>\n",
       "      <td>0.165</td>\n",
       "      <td>0.220</td>\n",
       "      <td>0.075</td>\n",
       "    </tr>\n",
       "    <tr>\n",
       "      <th>8</th>\n",
       "      <td>9</td>\n",
       "      <td>M</td>\n",
       "      <td>19</td>\n",
       "      <td>24</td>\n",
       "      <td>88</td>\n",
       "      <td>520</td>\n",
       "      <td>0.127</td>\n",
       "      <td>0.193</td>\n",
       "      <td>0.235</td>\n",
       "      <td>0.074</td>\n",
       "    </tr>\n",
       "    <tr>\n",
       "      <th>9</th>\n",
       "      <td>10</td>\n",
       "      <td>M</td>\n",
       "      <td>25</td>\n",
       "      <td>11</td>\n",
       "      <td>84</td>\n",
       "      <td>476</td>\n",
       "      <td>0.119</td>\n",
       "      <td>0.240</td>\n",
       "      <td>0.203</td>\n",
       "      <td>0.082</td>\n",
       "    </tr>\n",
       "  </tbody>\n",
       "</table>\n",
       "</div>"
      ],
      "text/plain": [
       "   id diagnosis_result  radius  texture  perimeter  area  smoothness  \\\n",
       "0   1                M      23       12        151   954       0.143   \n",
       "1   2                B       9       13        133  1326       0.143   \n",
       "2   3                M      21       27        130  1203       0.125   \n",
       "3   4                M      14       16         78   386       0.070   \n",
       "4   5                M       9       19        135  1297       0.141   \n",
       "5   6                B      25       25         83   477       0.128   \n",
       "6   7                M      16       26        120  1040       0.095   \n",
       "7   8                M      15       18         90   578       0.119   \n",
       "8   9                M      19       24         88   520       0.127   \n",
       "9  10                M      25       11         84   476       0.119   \n",
       "\n",
       "   compactness  symmetry  fractal_dimension  \n",
       "0        0.278     0.242              0.079  \n",
       "1        0.079     0.181              0.057  \n",
       "2        0.160     0.207              0.060  \n",
       "3        0.284     0.260              0.097  \n",
       "4        0.133     0.181              0.059  \n",
       "5        0.170     0.209              0.076  \n",
       "6        0.109     0.179              0.057  \n",
       "7        0.165     0.220              0.075  \n",
       "8        0.193     0.235              0.074  \n",
       "9        0.240     0.203              0.082  "
      ]
     },
     "execution_count": 33,
     "metadata": {},
     "output_type": "execute_result"
    }
   ],
   "source": [
    "dataset.head(10)"
   ]
  },
  {
   "cell_type": "code",
   "execution_count": 29,
   "metadata": {},
   "outputs": [],
   "source": [
    "yp=cat.predict_classes(sc.transform([[23,12,151,954,0.143,0.278,0.242,0.079]]))"
   ]
  },
  {
   "cell_type": "code",
   "execution_count": 30,
   "metadata": {},
   "outputs": [
    {
     "data": {
      "text/plain": [
       "array([1], dtype=int64)"
      ]
     },
     "execution_count": 30,
     "metadata": {},
     "output_type": "execute_result"
    }
   ],
   "source": [
    "yp"
   ]
  },
  {
   "cell_type": "code",
   "execution_count": 31,
   "metadata": {},
   "outputs": [],
   "source": [
    "yp=cat.predict_classes(sc.transform([[9,13,133,1326,0.143,0.079,0.181,0.057]]))"
   ]
  },
  {
   "cell_type": "code",
   "execution_count": 32,
   "metadata": {},
   "outputs": [
    {
     "data": {
      "text/plain": [
       "array([1], dtype=int64)"
      ]
     },
     "execution_count": 32,
     "metadata": {},
     "output_type": "execute_result"
    }
   ],
   "source": [
    "yp"
   ]
  },
  {
   "cell_type": "code",
   "execution_count": 34,
   "metadata": {},
   "outputs": [],
   "source": [
    "yp=cat.predict_classes(sc.transform([[25,25,83,477,0.128,0.170,0.209,0.076]]))"
   ]
  },
  {
   "cell_type": "code",
   "execution_count": 35,
   "metadata": {},
   "outputs": [
    {
     "data": {
      "text/plain": [
       "array([0], dtype=int64)"
      ]
     },
     "execution_count": 35,
     "metadata": {},
     "output_type": "execute_result"
    }
   ],
   "source": [
    "yp"
   ]
  }
 ],
 "metadata": {
  "kernelspec": {
   "display_name": "Python 3",
   "language": "python",
   "name": "python3"
  },
  "language_info": {
   "codemirror_mode": {
    "name": "ipython",
    "version": 3
   },
   "file_extension": ".py",
   "mimetype": "text/x-python",
   "name": "python",
   "nbconvert_exporter": "python",
   "pygments_lexer": "ipython3",
   "version": "3.7.3"
  }
 },
 "nbformat": 4,
 "nbformat_minor": 2
}
